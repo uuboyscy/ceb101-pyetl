{
 "cells": [
  {
   "cell_type": "code",
   "execution_count": 1,
   "metadata": {},
   "outputs": [],
   "source": [
    "import jieba"
   ]
  },
  {
   "cell_type": "code",
   "execution_count": 3,
   "metadata": {},
   "outputs": [
    {
     "name": "stdout",
     "output_type": "stream",
     "text": [
      "大家 | 好 | ， | 我 | 叫 | 小 | 賀 | ， | 今天 | 來 | 國 | 立 | 中央 | 大 | 學 | 大 | 數 | 據 | 班上 | 課 | ， | 覺 | 得 | 非常 | 開 | 心\n",
      "大家 | 好 | ， | 我 | 叫 | 小賀 | ， | 今天 | 來國立 | 中央 | 大學大數 | 據 | 班上 | 課 | ， | 覺得 | 非常 | 開心\n",
      "大家 | 好 | ， | 我 | 叫 | 小賀 | ， | 今天 | 來國立 | 中央 | 大學大數 | 據 | 班上 | 課 | ， | 覺得 | 非常 | 開心\n",
      "大家 | 好 | ， | 我 | 叫 | 小賀 | ， | 今天 | 來國立 | 中央 | 大學大數 | 據 | 班上 | 課 | ， | 覺得 | 非常 | 開心\n"
     ]
    }
   ],
   "source": [
    "s = '大家好，我叫小賀，今天來國立中央大學大數據班上課，覺得非常開心'\n",
    "\n",
    "s1List = jieba.cut(s, cut_all=True)\n",
    "s2List = jieba.cut(s, cut_all=False)\n",
    "s3List = jieba.cut(s)\n",
    "s4List = jieba.cut_for_search(s)\n",
    "\n",
    "print(' | '.join(s1List))\n",
    "print(' | '.join(s2List))\n",
    "print(' | '.join(s3List))\n",
    "print(' | '.join(s4List))"
   ]
  },
  {
   "cell_type": "code",
   "execution_count": 4,
   "metadata": {},
   "outputs": [],
   "source": [
    "jieba.load_userdict('./mydict.txt')"
   ]
  },
  {
   "cell_type": "code",
   "execution_count": 5,
   "metadata": {},
   "outputs": [
    {
     "name": "stdout",
     "output_type": "stream",
     "text": [
      "大家 | 好 | ， | 我 | 叫 | 小 | 賀 | ， | 今天 | 來 | 國 | 立 | 中央 | 中央大學 | 大數據 | 班上 | 課 | ， | 覺 | 得 | 非常 | 開 | 心\n",
      "大家 | 好 | ， | 我 | 叫 | 小賀 | ， | 今天 | 來國立 | 中央大學 | 大數據 | 班上 | 課 | ， | 覺得 | 非常 | 開心\n",
      "大家 | 好 | ， | 我 | 叫 | 小賀 | ， | 今天 | 來國立 | 中央大學 | 大數據 | 班上 | 課 | ， | 覺得 | 非常 | 開心\n",
      "大家 | 好 | ， | 我 | 叫 | 小賀 | ， | 今天 | 來國立 | 中央 | 中央大學 | 大數據 | 班上 | 課 | ， | 覺得 | 非常 | 開心\n"
     ]
    }
   ],
   "source": [
    "s = '大家好，我叫小賀，今天來國立中央大學大數據班上課，覺得非常開心'\n",
    "\n",
    "s1List = jieba.cut(s, cut_all=True)\n",
    "s2List = jieba.cut(s, cut_all=False)\n",
    "s3List = jieba.cut(s)\n",
    "s4List = jieba.cut_for_search(s)\n",
    "\n",
    "print(' | '.join(s1List))\n",
    "print(' | '.join(s2List))\n",
    "print(' | '.join(s3List))\n",
    "print(' | '.join(s4List))"
   ]
  },
  {
   "cell_type": "code",
   "execution_count": null,
   "metadata": {},
   "outputs": [],
   "source": []
  }
 ],
 "metadata": {
  "kernelspec": {
   "display_name": "Python 3",
   "language": "python",
   "name": "python3"
  },
  "language_info": {
   "codemirror_mode": {
    "name": "ipython",
    "version": 3
   },
   "file_extension": ".py",
   "mimetype": "text/x-python",
   "name": "python",
   "nbconvert_exporter": "python",
   "pygments_lexer": "ipython3",
   "version": "3.8.2"
  }
 },
 "nbformat": 4,
 "nbformat_minor": 4
}
